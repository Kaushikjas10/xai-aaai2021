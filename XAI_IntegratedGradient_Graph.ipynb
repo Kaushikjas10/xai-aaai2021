{
  "nbformat": 4,
  "nbformat_minor": 0,
  "metadata": {
    "colab": {
      "name": "XAI_IntegratedGradient_Graph.ipynb",
      "provenance": [],
      "collapsed_sections": [],
      "include_colab_link": true
    },
    "kernelspec": {
      "name": "python3",
      "display_name": "Python 3"
    }
  },
  "cells": [
    {
      "cell_type": "markdown",
      "metadata": {
        "id": "view-in-github",
        "colab_type": "text"
      },
      "source": [
        "<a href=\"https://colab.research.google.com/github/flecue/xai-aaai2021/blob/main/XAI_IntegratedGradient_Graph.ipynb\" target=\"_parent\"><img src=\"https://colab.research.google.com/assets/colab-badge.svg\" alt=\"Open In Colab\"/></a>"
      ]
    },
    {
      "cell_type": "code",
      "metadata": {
        "id": "F1op-CbyLuN4",
        "colab": {
          "base_uri": "https://localhost:8080/"
        },
        "outputId": "bd2a3a63-a02d-4a1f-8e97-291ae162dd16"
      },
      "source": [
        "# Install required packages.\n",
        "!pip install -q torch-scatter -f https://pytorch-geometric.com/whl/torch-1.7.0+cu101.html\n",
        "!pip install -q torch-sparse -f https://pytorch-geometric.com/whl/torch-1.7.0+cu101.html\n",
        "!pip install -q torch-geometric\n",
        "!pip install -q captum\n",
        "\n",
        "# Helper function for visualization.\n",
        "%matplotlib inline\n",
        "import matplotlib.pyplot as plt"
      ],
      "execution_count": null,
      "outputs": [
        {
          "output_type": "stream",
          "text": [
            "\u001b[K     |████████████████████████████████| 11.9MB 3.8MB/s \n",
            "\u001b[K     |████████████████████████████████| 24.3MB 1.3MB/s \n",
            "\u001b[K     |████████████████████████████████| 194kB 5.4MB/s \n",
            "\u001b[K     |████████████████████████████████| 235kB 8.0MB/s \n",
            "\u001b[K     |████████████████████████████████| 2.2MB 7.8MB/s \n",
            "\u001b[K     |████████████████████████████████| 51kB 5.7MB/s \n",
            "\u001b[?25h  Building wheel for torch-geometric (setup.py) ... \u001b[?25l\u001b[?25hdone\n",
            "\u001b[K     |████████████████████████████████| 5.7MB 5.5MB/s \n",
            "\u001b[?25h"
          ],
          "name": "stdout"
        }
      ]
    },
    {
      "cell_type": "markdown",
      "metadata": {
        "id": "nMTL0kk0seBw"
      },
      "source": [
        "# Explaining GNN Model Predictions using Captum\n",
        "\n",
        "In this tutorial we demonstrate how to apply feature attribution methods to graphs. Specifically, we try to find the most important edges for each instance prediction.  \n",
        "\n",
        "We use the Mutagenicity dataset from [TUDatasets](https://chrsmrrs.github.io/datasets/). This dataset consists of 4337 molecule graphs where the task is to predict the molecule mutagenicity."
      ]
    },
    {
      "cell_type": "markdown",
      "metadata": {
        "id": "mJtgD2A1uJAa"
      },
      "source": [
        "## Loading the dataset\n",
        "\n",
        "We load the dataset and use 10% of the data as the test split."
      ]
    },
    {
      "cell_type": "code",
      "metadata": {
        "id": "SE2iREv4q2dL",
        "colab": {
          "base_uri": "https://localhost:8080/"
        },
        "outputId": "af29f3bf-b015-45c4-ff00-38e2cadbde98"
      },
      "source": [
        "from torch_geometric.data import DataLoader\n",
        "from torch_geometric.datasets import TUDataset\n",
        "\n",
        "path = '.'\n",
        "dataset = TUDataset(path, name='Mutagenicity').shuffle()\n",
        "test_dataset = dataset[:len(dataset) // 10]\n",
        "train_dataset = dataset[len(dataset) // 10:]\n",
        "test_loader = DataLoader(test_dataset, batch_size=128)\n",
        "train_loader = DataLoader(train_dataset, batch_size=128)"
      ],
      "execution_count": null,
      "outputs": [
        {
          "output_type": "stream",
          "text": [
            "Downloading https://www.chrsmrrs.com/graphkerneldatasets/Mutagenicity.zip\n",
            "Extracting ./Mutagenicity/Mutagenicity.zip\n",
            "Processing...\n",
            "Done!\n"
          ],
          "name": "stdout"
        }
      ]
    },
    {
      "cell_type": "markdown",
      "metadata": {
        "id": "g35SSQ3oukNM"
      },
      "source": [
        "## Visualizing the data\n",
        "\n",
        "We define some utility functions for visualizing the molecules and draw a random molecule."
      ]
    },
    {
      "cell_type": "code",
      "metadata": {
        "id": "9Hh3YNASuYxm"
      },
      "source": [
        "import networkx as nx\n",
        "import numpy as np\n",
        "\n",
        "from torch_geometric.utils import to_networkx\n",
        "\n",
        "\n",
        "def draw_molecule(g, edge_mask=None, draw_edge_labels=False):\n",
        "    g = g.copy().to_undirected()\n",
        "    node_labels = {}\n",
        "    for u, data in g.nodes(data=True):\n",
        "        node_labels[u] = data['name']\n",
        "    pos = nx.planar_layout(g)\n",
        "    pos = nx.spring_layout(g, pos=pos)\n",
        "    if edge_mask is None:\n",
        "        edge_color = 'black'\n",
        "        widths = None\n",
        "    else:\n",
        "        edge_color = [edge_mask[(u, v)] for u, v in g.edges()]\n",
        "        widths = [x * 10 for x in edge_color]\n",
        "    nx.draw(g, pos=pos, labels=node_labels, width=widths,\n",
        "            edge_color=edge_color, edge_cmap=plt.cm.Blues,\n",
        "            node_color='azure')\n",
        "    \n",
        "    if draw_edge_labels and edge_mask is not None:\n",
        "        edge_labels = {k: ('%.2f' % v) for k, v in edge_mask.items()}    \n",
        "        nx.draw_networkx_edge_labels(g, pos, edge_labels=edge_labels,\n",
        "                                    font_color='red')\n",
        "    plt.show()\n",
        "\n",
        "\n",
        "def to_molecule(data):\n",
        "    ATOM_MAP = ['C', 'O', 'Cl', 'H', 'N', 'F',\n",
        "                'Br', 'S', 'P', 'I', 'Na', 'K', 'Li', 'Ca']\n",
        "    g = to_networkx(data, node_attrs=['x'])\n",
        "    for u, data in g.nodes(data=True):\n",
        "        data['name'] = ATOM_MAP[data['x'].index(1.0)]\n",
        "        del data['x']\n",
        "    return g\n"
      ],
      "execution_count": null,
      "outputs": []
    },
    {
      "cell_type": "markdown",
      "metadata": {
        "id": "cJ3JuTH1vV1V"
      },
      "source": [
        "## Sample visualization\n",
        "\n",
        "We sample a single molecule from train_dataset and visualize it"
      ]
    },
    {
      "cell_type": "code",
      "metadata": {
        "id": "4Z2uE7zVuhXU",
        "colab": {
          "base_uri": "https://localhost:8080/",
          "height": 391
        },
        "outputId": "223d0046-4b6a-4150-8ca3-078412c7f0e7"
      },
      "source": [
        "import random\n",
        "\n",
        "data = random.choice([t for t in train_dataset])\n",
        "mol = to_molecule(data)\n",
        "plt.figure(figsize=(10, 5))\n",
        "draw_molecule(mol)"
      ],
      "execution_count": null,
      "outputs": [
        {
          "output_type": "display_data",
          "data": {
            "image/png": "[encoded data removed]",
            "text/plain": [
              "<Figure size 720x360 with 1 Axes>"
            ]
          },
          "metadata": {
            "tags": []
          }
        }
      ]
    },
    {
      "cell_type": "markdown",
      "metadata": {
        "id": "6kZo9g1hwCGG"
      },
      "source": [
        "## Training the model\n",
        "\n",
        "In the next section, we train a GNN model with 5 convolution layers. We use GraphConv which supports `edge_weight` as a parameter. Many convolution layers in Pytorch Geometric supoort this argument."
      ]
    },
    {
      "cell_type": "markdown",
      "metadata": {
        "id": "GBVIOfMCCHAb"
      },
      "source": [
        "### Define the model"
      ]
    },
    {
      "cell_type": "code",
      "metadata": {
        "id": "iI1qpFUhrA2p"
      },
      "source": [
        "import torch\n",
        "import torch.nn.functional as F\n",
        "from torch.nn import Linear\n",
        "\n",
        "from torch_geometric.nn import global_add_pool, GraphConv\n",
        "\n",
        "class Net(torch.nn.Module):\n",
        "    def __init__(self, dim):\n",
        "        super(Net, self).__init__()\n",
        "\n",
        "        num_features = dataset.num_features\n",
        "        self.dim = dim\n",
        "\n",
        "        self.conv1 = GraphConv(num_features, dim)\n",
        "        self.conv2 = GraphConv(dim, dim)\n",
        "        self.conv3 = GraphConv(dim, dim)\n",
        "        self.conv4 = GraphConv(dim, dim)\n",
        "        self.conv5 = GraphConv(dim, dim)\n",
        "\n",
        "        self.fc1 = Linear(dim, dim)\n",
        "        self.fc2 = Linear(dim, dataset.num_classes)\n",
        "\n",
        "    def forward(self, x, edge_index, batch, edge_weight=None):\n",
        "        x = F.relu(self.conv1(x, edge_index, edge_weight))\n",
        "        x = F.relu(self.conv2(x, edge_index, edge_weight))\n",
        "        x = F.relu(self.conv3(x, edge_index, edge_weight))\n",
        "        x = F.relu(self.conv4(x, edge_index, edge_weight))\n",
        "        x = F.relu(self.conv5(x, edge_index, edge_weight))\n",
        "        x = global_add_pool(x, batch)\n",
        "        x = F.relu(self.fc1(x))\n",
        "        x = F.dropout(x, p=0.5, training=self.training)\n",
        "        x = self.fc2(x)\n",
        "        return F.log_softmax(x, dim=-1)\n"
      ],
      "execution_count": null,
      "outputs": []
    },
    {
      "cell_type": "markdown",
      "metadata": {
        "id": "L3WOZ40OCKO5"
      },
      "source": [
        "### Define train and test functions"
      ]
    },
    {
      "cell_type": "code",
      "metadata": {
        "id": "ExNsODp3rKjN"
      },
      "source": [
        "def train(epoch):\n",
        "    model.train()\n",
        "\n",
        "    if epoch == 51:\n",
        "        for param_group in optimizer.param_groups:\n",
        "            param_group['lr'] = 0.5 * param_group['lr']\n",
        "\n",
        "    loss_all = 0\n",
        "    for data in train_loader:\n",
        "        data = data.to(device)\n",
        "        optimizer.zero_grad()\n",
        "        output = model(data.x, data.edge_index, data.batch)\n",
        "        loss = F.nll_loss(output, data.y)\n",
        "        loss.backward()\n",
        "        loss_all += loss.item() * data.num_graphs\n",
        "        optimizer.step()\n",
        "    return loss_all / len(train_dataset)\n",
        "\n",
        "\n",
        "def test(loader):\n",
        "    model.eval()\n",
        "\n",
        "    correct = 0\n",
        "    for data in loader:\n",
        "        data = data.to(device)\n",
        "        output = model(data.x, data.edge_index, data.batch)\n",
        "        pred = output.max(dim=1)[1]\n",
        "        correct += pred.eq(data.y).sum().item()\n",
        "    return correct / len(loader.dataset)"
      ],
      "execution_count": null,
      "outputs": []
    },
    {
      "cell_type": "markdown",
      "metadata": {
        "id": "rsv9CQ6hCNMI"
      },
      "source": [
        "### Train the model for 100 epochs\n",
        "\n",
        "The accuracy should be around 80% in the end"
      ]
    },
    {
      "cell_type": "code",
      "metadata": {
        "id": "4imSoTlMrQdN",
        "colab": {
          "base_uri": "https://localhost:8080/"
        },
        "outputId": "ed35e8f5-143f-437d-b2e5-4a93b9692135"
      },
      "source": [
        "device = torch.device('cuda' if torch.cuda.is_available() else 'cpu')\n",
        "model = Net(dim=32).to(device)\n",
        "optimizer = torch.optim.Adam(model.parameters(), lr=0.001)\n",
        "\n",
        "for epoch in range(1, 101):\n",
        "    train_loss = train(epoch)\n",
        "    train_acc = test(train_loader)\n",
        "    test_acc = test(test_loader)\n",
        "    print('Epoch: {:03d}, Train Loss: {:.7f}, '\n",
        "          'Train Acc: {:.7f}, Test Acc: {:.7f}'.format(epoch, train_loss,\n",
        "                                                       train_acc, test_acc))\n"
      ],
      "execution_count": null,
      "outputs": [
        {
          "output_type": "stream",
          "text": [
            "Epoch: 001, Train Loss: 0.8861106, Train Acc: 0.6393443, Test Acc: 0.6189376\n",
            "Epoch: 002, Train Loss: 0.6253415, Train Acc: 0.6739242, Test Acc: 0.6258661\n",
            "Epoch: 003, Train Loss: 0.6140754, Train Acc: 0.6882684, Test Acc: 0.6397229\n",
            "Epoch: 004, Train Loss: 0.5940179, Train Acc: 0.7064549, Test Acc: 0.6558891\n",
            "Epoch: 005, Train Loss: 0.5804387, Train Acc: 0.7236168, Test Acc: 0.6812933\n",
            "Epoch: 006, Train Loss: 0.5720513, Train Acc: 0.6941598, Test Acc: 0.6581986\n",
            "Epoch: 007, Train Loss: 0.5759241, Train Acc: 0.7435963, Test Acc: 0.6974596\n",
            "Epoch: 008, Train Loss: 0.5511642, Train Acc: 0.7548668, Test Acc: 0.7020785\n",
            "Epoch: 009, Train Loss: 0.5494236, Train Acc: 0.7558914, Test Acc: 0.7297921\n",
            "Epoch: 010, Train Loss: 0.5283017, Train Acc: 0.7612705, Test Acc: 0.7413395\n",
            "Epoch: 011, Train Loss: 0.5370814, Train Acc: 0.7720287, Test Acc: 0.7344111\n",
            "Epoch: 012, Train Loss: 0.5258842, Train Acc: 0.7707480, Test Acc: 0.7459584\n",
            "Epoch: 013, Train Loss: 0.5178564, Train Acc: 0.7779201, Test Acc: 0.7736721\n",
            "Epoch: 014, Train Loss: 0.5094659, Train Acc: 0.7727971, Test Acc: 0.7690531\n",
            "Epoch: 015, Train Loss: 0.5052740, Train Acc: 0.7786885, Test Acc: 0.7736721\n",
            "Epoch: 016, Train Loss: 0.4999865, Train Acc: 0.7889344, Test Acc: 0.7667436\n",
            "Epoch: 017, Train Loss: 0.4923887, Train Acc: 0.7927766, Test Acc: 0.7944573\n",
            "Epoch: 018, Train Loss: 0.4876099, Train Acc: 0.7968750, Test Acc: 0.7598152\n",
            "Epoch: 019, Train Loss: 0.4870179, Train Acc: 0.7994365, Test Acc: 0.7852194\n",
            "Epoch: 020, Train Loss: 0.4831695, Train Acc: 0.8012295, Test Acc: 0.7782910\n",
            "Epoch: 021, Train Loss: 0.4779387, Train Acc: 0.8009734, Test Acc: 0.7806005\n",
            "Epoch: 022, Train Loss: 0.4730829, Train Acc: 0.8045594, Test Acc: 0.7667436\n",
            "Epoch: 023, Train Loss: 0.4702162, Train Acc: 0.8114754, Test Acc: 0.7713626\n",
            "Epoch: 024, Train Loss: 0.4648097, Train Acc: 0.8125000, Test Acc: 0.7759815\n",
            "Epoch: 025, Train Loss: 0.4640837, Train Acc: 0.8109631, Test Acc: 0.7644342\n",
            "Epoch: 026, Train Loss: 0.4595879, Train Acc: 0.8053279, Test Acc: 0.7759815\n",
            "Epoch: 027, Train Loss: 0.4656124, Train Acc: 0.8142930, Test Acc: 0.7598152\n",
            "Epoch: 028, Train Loss: 0.4631740, Train Acc: 0.8191598, Test Acc: 0.7898383\n",
            "Epoch: 029, Train Loss: 0.4491252, Train Acc: 0.8173668, Test Acc: 0.7875289\n",
            "Epoch: 030, Train Loss: 0.4374290, Train Acc: 0.8311988, Test Acc: 0.7829099\n",
            "Epoch: 031, Train Loss: 0.4471773, Train Acc: 0.8247951, Test Acc: 0.7829099\n",
            "Epoch: 032, Train Loss: 0.4428886, Train Acc: 0.8294057, Test Acc: 0.7852194\n",
            "Epoch: 033, Train Loss: 0.4270425, Train Acc: 0.8283811, Test Acc: 0.7944573\n",
            "Epoch: 034, Train Loss: 0.4338504, Train Acc: 0.8260758, Test Acc: 0.7944573\n",
            "Epoch: 035, Train Loss: 0.4213574, Train Acc: 0.8273566, Test Acc: 0.7921478\n",
            "Epoch: 036, Train Loss: 0.4275883, Train Acc: 0.8358094, Test Acc: 0.7944573\n",
            "Epoch: 037, Train Loss: 0.4141170, Train Acc: 0.8378586, Test Acc: 0.8083141\n",
            "Epoch: 038, Train Loss: 0.4206802, Train Acc: 0.8224898, Test Acc: 0.7782910\n",
            "Epoch: 039, Train Loss: 0.4342140, Train Acc: 0.8301742, Test Acc: 0.7944573\n",
            "Epoch: 040, Train Loss: 0.4118328, Train Acc: 0.8332480, Test Acc: 0.7898383\n",
            "Epoch: 041, Train Loss: 0.4156645, Train Acc: 0.8365779, Test Acc: 0.8083141\n",
            "Epoch: 042, Train Loss: 0.4050188, Train Acc: 0.8417008, Test Acc: 0.7967667\n",
            "Epoch: 043, Train Loss: 0.3984591, Train Acc: 0.8391393, Test Acc: 0.8106236\n",
            "Epoch: 044, Train Loss: 0.4054041, Train Acc: 0.8350410, Test Acc: 0.7921478\n",
            "Epoch: 045, Train Loss: 0.4113416, Train Acc: 0.8376025, Test Acc: 0.7990762\n",
            "Epoch: 046, Train Loss: 0.3979746, Train Acc: 0.8370902, Test Acc: 0.8175520\n",
            "Epoch: 047, Train Loss: 0.3882863, Train Acc: 0.8429816, Test Acc: 0.8106236\n",
            "Epoch: 048, Train Loss: 0.3974843, Train Acc: 0.8419570, Test Acc: 0.8036952\n",
            "Epoch: 049, Train Loss: 0.3839437, Train Acc: 0.8447746, Test Acc: 0.8129330\n",
            "Epoch: 050, Train Loss: 0.3783525, Train Acc: 0.8455430, Test Acc: 0.8083141\n",
            "Epoch: 051, Train Loss: 0.3744107, Train Acc: 0.8393955, Test Acc: 0.7898383\n",
            "Epoch: 052, Train Loss: 0.3819558, Train Acc: 0.8386270, Test Acc: 0.7944573\n",
            "Epoch: 053, Train Loss: 0.3752261, Train Acc: 0.8440061, Test Acc: 0.7944573\n",
            "Epoch: 054, Train Loss: 0.3711563, Train Acc: 0.8478484, Test Acc: 0.8060046\n",
            "Epoch: 055, Train Loss: 0.3595396, Train Acc: 0.8447746, Test Acc: 0.8036952\n",
            "Epoch: 056, Train Loss: 0.3599304, Train Acc: 0.8445184, Test Acc: 0.7967667\n",
            "Epoch: 057, Train Loss: 0.3620164, Train Acc: 0.8437500, Test Acc: 0.8106236\n",
            "Epoch: 058, Train Loss: 0.3672449, Train Acc: 0.8442623, Test Acc: 0.8036952\n",
            "Epoch: 059, Train Loss: 0.3617229, Train Acc: 0.8516906, Test Acc: 0.8060046\n",
            "Epoch: 060, Train Loss: 0.3518565, Train Acc: 0.8555328, Test Acc: 0.8129330\n",
            "Epoch: 061, Train Loss: 0.3547556, Train Acc: 0.8514344, Test Acc: 0.8083141\n",
            "Epoch: 062, Train Loss: 0.3489796, Train Acc: 0.8614242, Test Acc: 0.8175520\n",
            "Epoch: 063, Train Loss: 0.3502894, Train Acc: 0.8557889, Test Acc: 0.8083141\n",
            "Epoch: 064, Train Loss: 0.3486147, Train Acc: 0.8542520, Test Acc: 0.8060046\n",
            "Epoch: 065, Train Loss: 0.3455103, Train Acc: 0.8588627, Test Acc: 0.8060046\n",
            "Epoch: 066, Train Loss: 0.3461097, Train Acc: 0.8550205, Test Acc: 0.8060046\n",
            "Epoch: 067, Train Loss: 0.3497044, Train Acc: 0.8642418, Test Acc: 0.8152425\n",
            "Epoch: 068, Train Loss: 0.3544177, Train Acc: 0.8634734, Test Acc: 0.8060046\n",
            "Epoch: 069, Train Loss: 0.3550105, Train Acc: 0.8668033, Test Acc: 0.8083141\n",
            "Epoch: 070, Train Loss: 0.3457454, Train Acc: 0.8580943, Test Acc: 0.8083141\n",
            "Epoch: 071, Train Loss: 0.3503050, Train Acc: 0.8637295, Test Acc: 0.8129330\n",
            "Epoch: 072, Train Loss: 0.3504211, Train Acc: 0.8624488, Test Acc: 0.8106236\n",
            "Epoch: 073, Train Loss: 0.3527869, Train Acc: 0.8624488, Test Acc: 0.8129330\n",
            "Epoch: 074, Train Loss: 0.3468554, Train Acc: 0.8545082, Test Acc: 0.8060046\n",
            "Epoch: 075, Train Loss: 0.3447930, Train Acc: 0.8516906, Test Acc: 0.7967667\n",
            "Epoch: 076, Train Loss: 0.3395471, Train Acc: 0.8532275, Test Acc: 0.8013857\n",
            "Epoch: 077, Train Loss: 0.3389841, Train Acc: 0.8580943, Test Acc: 0.7967667\n",
            "Epoch: 078, Train Loss: 0.3337781, Train Acc: 0.8557889, Test Acc: 0.8152425\n",
            "Epoch: 079, Train Loss: 0.3399231, Train Acc: 0.8563012, Test Acc: 0.8152425\n",
            "Epoch: 080, Train Loss: 0.3269344, Train Acc: 0.8619365, Test Acc: 0.8152425\n",
            "Epoch: 081, Train Loss: 0.3290112, Train Acc: 0.8450307, Test Acc: 0.8106236\n",
            "Epoch: 082, Train Loss: 0.3308649, Train Acc: 0.8611680, Test Acc: 0.8129330\n",
            "Epoch: 083, Train Loss: 0.3273553, Train Acc: 0.8616803, Test Acc: 0.8175520\n",
            "Epoch: 084, Train Loss: 0.3293630, Train Acc: 0.8547643, Test Acc: 0.8036952\n",
            "Epoch: 085, Train Loss: 0.3230376, Train Acc: 0.8634734, Test Acc: 0.8083141\n",
            "Epoch: 086, Train Loss: 0.3252762, Train Acc: 0.8616803, Test Acc: 0.8152425\n",
            "Epoch: 087, Train Loss: 0.3199935, Train Acc: 0.8627049, Test Acc: 0.8083141\n",
            "Epoch: 088, Train Loss: 0.3253584, Train Acc: 0.8598873, Test Acc: 0.8083141\n",
            "Epoch: 089, Train Loss: 0.3250035, Train Acc: 0.8475922, Test Acc: 0.7967667\n",
            "Epoch: 090, Train Loss: 0.3265080, Train Acc: 0.8593750, Test Acc: 0.8036952\n",
            "Epoch: 091, Train Loss: 0.3221738, Train Acc: 0.8573258, Test Acc: 0.7967667\n",
            "Epoch: 092, Train Loss: 0.3249482, Train Acc: 0.8565574, Test Acc: 0.7990762\n",
            "Epoch: 093, Train Loss: 0.3159921, Train Acc: 0.8591189, Test Acc: 0.8083141\n",
            "Epoch: 094, Train Loss: 0.3182657, Train Acc: 0.8481045, Test Acc: 0.8013857\n",
            "Epoch: 095, Train Loss: 0.3233641, Train Acc: 0.8624488, Test Acc: 0.8060046\n",
            "Epoch: 096, Train Loss: 0.3369054, Train Acc: 0.8624488, Test Acc: 0.8106236\n",
            "Epoch: 097, Train Loss: 0.3425708, Train Acc: 0.8711578, Test Acc: 0.8198614\n",
            "Epoch: 098, Train Loss: 0.3426728, Train Acc: 0.8668033, Test Acc: 0.7967667\n",
            "Epoch: 099, Train Loss: 0.3581798, Train Acc: 0.8632172, Test Acc: 0.7898383\n",
            "Epoch: 100, Train Loss: 0.3560540, Train Acc: 0.8486168, Test Acc: 0.7806005\n"
          ],
          "name": "stdout"
        }
      ]
    },
    {
      "cell_type": "markdown",
      "metadata": {
        "id": "PzX9xwFxCTff"
      },
      "source": [
        "## Explaining the predictions\n",
        "\n",
        "Now we look at two popular attribution methods. First, we calculate the gradient of the output with respect to the edge weights $w_{e_i}$. Edge weights are initially one for all edges.\n",
        "For the saliency method, we use the absolute value of the gradient as the attribution value for each edge:\n",
        "\n",
        "$$\n",
        "Attribution_{e_i} = |\\frac{\\partial F(x)}{\\partial w_{e_i}}|\n",
        "$$\n",
        "\n",
        "Where $x$ is the input and $F(x)$ is the output of the GNN model on input $x$.\n",
        "\n",
        "For Integrated Gradients method, we interpolate between the current input and a baseline input where the weight of all edges is zero and accumulate the gradient values for each edge:\n",
        "\n",
        "$$\n",
        "Attribution_{e_i} = \\int_{\\alpha =0}^1 \\frac{\\partial F(x_{\\alpha)}}{\\partial w_{e_i}} d\\alpha\n",
        "$$\n",
        "\n",
        "Where $x_{\\alpha}$ is the same as the original input graph but the weight of all edges is set to $\\alpha$. Integrated Gradients complete formulation is more complicated but since our initial edge weights are equal to one and the baseline is zero, it can be simplified to the formulation above. You can read more about this method [here](https://arxiv.org/abs/1703.01365). Of course, this can not be calculated directly and is approximated by a discrete sum.\n",
        "\n",
        "We use the [captum](https://captum.ai/) library for calculating the attribution values. We define the `model_forward` function which calculates the `batch` argument assuming that we are only explaining a single graph at a time.\n",
        "\n"
      ]
    },
    {
      "cell_type": "code",
      "metadata": {
        "id": "Wz6B1NgorzAX"
      },
      "source": [
        "from captum.attr import Saliency, IntegratedGradients\n",
        "\n",
        "def model_forward(edge_mask, data):\n",
        "    batch = torch.zeros(data.x.shape[0], dtype=int).to(device)\n",
        "    out = model(data.x, data.edge_index, batch, edge_mask)\n",
        "    return out\n",
        "\n",
        "\n",
        "def explain(method, data, target=0):\n",
        "    input_mask = torch.ones(data.edge_index.shape[1]).requires_grad_(True).to(device)\n",
        "    if method == 'ig':\n",
        "        ig = IntegratedGradients(model_forward)\n",
        "        mask = ig.attribute(input_mask, target=target,\n",
        "                            additional_forward_args=(data,),\n",
        "                            internal_batch_size=data.edge_index.shape[1])\n",
        "    elif method == 'saliency':\n",
        "        saliency = Saliency(model_forward)\n",
        "        mask = saliency.attribute(input_mask, target=target,\n",
        "                                  additional_forward_args=(data,))\n",
        "    else:\n",
        "        raise Exception('Unknown explanation method')\n",
        "\n",
        "    edge_mask = np.abs(mask.cpu().detach().numpy())\n",
        "    if edge_mask.max() > 0:  # avoid division by zero\n",
        "        edge_mask = edge_mask / edge_mask.max()\n",
        "    return edge_mask"
      ],
      "execution_count": null,
      "outputs": []
    },
    {
      "cell_type": "markdown",
      "metadata": {
        "id": "0FPGLRtSFacR"
      },
      "source": [
        "Finally we take a random sample from the test dataset and run the explanation methods. For a simpler visualization, we make the graph undirected and merge the explanations of each edge in both directions.\n",
        "\n",
        "It is known that NO2 substructure makes the molecules mutagenic in many cases and you can verify this by the model explanations.\n",
        "\n",
        "Mutagenic molecules have label 0 in this dataset and we only sample from those molecules but you can change the code and see the explanations for the other class as well.\n",
        "\n",
        "In this visualization, edge colors and thickness represent the importance. You can also see the numeric value by passing `draw_edge_labels` to `draw_molecule` function.\n",
        "\n",
        "As you can see Integrated Gradients tend to create more accurate explanations."
      ]
    },
    {
      "cell_type": "code",
      "metadata": {
        "id": "Z1mJVbKorh5y",
        "colab": {
          "base_uri": "https://localhost:8080/",
          "height": 621
        },
        "outputId": "19988767-b007-419f-954a-12967335cfc1"
      },
      "source": [
        "import random\n",
        "from collections import defaultdict\n",
        "\n",
        "def aggregate_edge_directions(edge_mask, data):\n",
        "    edge_mask_dict = defaultdict(float)\n",
        "    for val, u, v in list(zip(edge_mask, *data.edge_index)):\n",
        "        u, v = u.item(), v.item()\n",
        "        if u > v:\n",
        "            u, v = v, u\n",
        "        edge_mask_dict[(u, v)] += val\n",
        "    return edge_mask_dict\n",
        "    \n",
        "\n",
        "data = random.choice([t for t in test_dataset if not t.y.item()])\n",
        "mol = to_molecule(data)\n",
        "\n",
        "for title, method in [('Integrated Gradients', 'ig'), ('Saliency', 'saliency')]:\n",
        "    edge_mask = explain(method, data, target=0)\n",
        "    edge_mask_dict = aggregate_edge_directions(edge_mask, data)\n",
        "    plt.figure(figsize=(10, 5))\n",
        "    plt.title(title)\n",
        "    draw_molecule(mol, edge_mask_dict)"
      ],
      "execution_count": null,
      "outputs": [
        {
          "output_type": "display_data",
          "data": {
            "image/png": "[encoded data removed]",
            "text/plain": [
              "<Figure size 720x360 with 1 Axes>"
            ]
          },
          "metadata": {
            "tags": []
          }
        },
        {
          "output_type": "display_data",
          "data": {
            "image/png": "[encoded data removed]",
            "text/plain": [
              "<Figure size 720x360 with 1 Axes>"
            ]
          },
          "metadata": {
            "tags": []
          }
        }
      ]
    }
  ]
}